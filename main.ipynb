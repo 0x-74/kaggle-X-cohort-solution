{
 "cells": [
  {
   "cell_type": "code",
   "execution_count": 290,
   "metadata": {},
   "outputs": [],
   "source": [
    "import pandas as pd\n",
    "import numpy as np\n",
    "import matplotlib.pyplot as plt\n",
    "import seaborn as sns\n",
    "\n",
    "%matplotlib inline"
   ]
  },
  {
   "cell_type": "code",
   "execution_count": 291,
   "metadata": {},
   "outputs": [],
   "source": [
    "df = pd.read_csv('kagglex-cohort4/train.csv')"
   ]
  },
  {
   "cell_type": "code",
   "execution_count": 292,
   "metadata": {},
   "outputs": [
    {
     "name": "stdout",
     "output_type": "stream",
     "text": [
      "<class 'pandas.core.frame.DataFrame'>\n",
      "RangeIndex: 36183 entries, 0 to 36182\n",
      "Data columns (total 12 columns):\n",
      " #   Column        Non-Null Count  Dtype \n",
      "---  ------        --------------  ----- \n",
      " 0   id            36183 non-null  int64 \n",
      " 1   brand         36183 non-null  object\n",
      " 2   model         36183 non-null  object\n",
      " 3   model_year    36183 non-null  int64 \n",
      " 4   milage        36183 non-null  int64 \n",
      " 5   fuel_type     36183 non-null  object\n",
      " 6   engine        36183 non-null  object\n",
      " 7   transmission  36183 non-null  object\n",
      " 8   ext_col       36183 non-null  object\n",
      " 9   int_col       36183 non-null  object\n",
      " 10  accident      36183 non-null  object\n",
      " 11  clean_title   36183 non-null  object\n",
      "dtypes: int64(3), object(9)\n",
      "memory usage: 3.3+ MB\n"
     ]
    }
   ],
   "source": [
    "df.info()"
   ]
  },
  {
   "cell_type": "code",
   "execution_count": 267,
   "metadata": {},
   "outputs": [],
   "source": [
    "threshold = 3\n",
    "\n",
    "z_scores = df.select_dtypes(include=['number']).apply(lambda x: np.abs((x - x.mean()) / x.std()))\n",
    "\n",
    "df = df[(z_scores < threshold).all(axis=1)]"
   ]
  },
  {
   "cell_type": "code",
   "execution_count": 293,
   "metadata": {},
   "outputs": [],
   "source": [
    "import pandas as pd\n",
    "\n",
    "data = {\n",
    "    'Brand': ['Ford', 'BMW', 'Jaguar', 'Pontiac', 'Acura', 'Audi', 'GMC',\n",
    "              'Maserati', 'Chevrolet', 'Porsche', 'Mercedes-Benz', 'Tesla',\n",
    "              'Lexus', 'Kia', 'Lincoln', 'Dodge', 'Volkswagen', 'Land',\n",
    "              'Cadillac', 'Mazda', 'RAM', 'Subaru', 'Hyundai', 'MINI', 'Jeep',\n",
    "              'Honda', 'Hummer', 'Nissan', 'Toyota', 'Volvo', 'Genesis',\n",
    "              'Mitsubishi', 'Buick', 'INFINITI', 'McLaren', 'Scion',\n",
    "              'Lamborghini', 'Bentley', 'Suzuki', 'Ferrari', 'Alfa',\n",
    "              'Rolls-Royce', 'Chrysler', 'Aston', 'Rivian', 'Lotus', 'Saturn',\n",
    "              'Lucid', 'Mercury', 'Maybach', 'FIAT', 'Plymouth', 'Bugatti'],\n",
    "    'Country': ['United States', 'Germany', 'United Kingdom', 'United States',\n",
    "                'Japan', 'Germany', 'United States', 'Italy', 'United States',\n",
    "                'Germany', 'Germany', 'United States', 'Japan', 'South Korea',\n",
    "                'United States', 'United States', 'Germany', 'United Kingdom',\n",
    "                'United States', 'Japan', 'United States', 'Japan', 'South Korea',\n",
    "                'United Kingdom', 'United States', 'Japan', 'United States',\n",
    "                'Japan', 'Japan', 'Sweden', 'South Korea', 'Japan', 'United States',\n",
    "                'Japan', 'United Kingdom', 'United States', 'Italy', 'United Kingdom',\n",
    "                'Japan', 'Italy', 'Italy', 'United Kingdom', 'United States',\n",
    "                'United Kingdom', 'United States', 'United Kingdom', 'United States',\n",
    "                'United States', 'United States', 'Germany', 'Italy', 'United States',\n",
    "                'France']\n",
    "}\n"
   ]
  },
  {
   "cell_type": "code",
   "execution_count": 294,
   "metadata": {},
   "outputs": [],
   "source": [
    "brand_df = pd.DataFrame(data)"
   ]
  },
  {
   "cell_type": "code",
   "execution_count": 295,
   "metadata": {},
   "outputs": [],
   "source": [
    "brand_country_map = dict(zip(brand_df['Brand'], brand_df['Country']))\n",
    "df['brand_country'] = df['brand'].map(brand_country_map)"
   ]
  },
  {
   "cell_type": "code",
   "execution_count": 296,
   "metadata": {},
   "outputs": [],
   "source": [
    "europe = ['Germany', 'Italy', 'Sweden', 'United Kingdom', 'Slovakia']\n",
    "asia = ['Japan', 'South Korea']\n",
    "us = ['United States']\n",
    "\n",
    "df.loc[df['brand_country'].isin(europe), 'brand_continent'] = 'Europe'\n",
    "df.loc[df['brand_country'].isin(asia), 'brand_continent'] = 'Asia'\n",
    "df.loc[df['brand_country'].isin(us), 'brand_continent'] = 'American'"
   ]
  },
  {
   "cell_type": "code",
   "execution_count": 297,
   "metadata": {},
   "outputs": [],
   "source": [
    "df['fuel'] = df['fuel_type']\n",
    "df.loc[df['fuel'].str.contains('Hybrid'), 'fuel'] = 'Hybrid'\n",
    "df.loc[df['fuel'].str.contains('–'), 'fuel'] = 'Other'\n",
    "df.loc[df['fuel'] == 'not supported', 'fuel'] = 'Other'"
   ]
  },
  {
   "cell_type": "code",
   "execution_count": 298,
   "metadata": {},
   "outputs": [
    {
     "data": {
      "text/html": [
       "<div>\n",
       "<style scoped>\n",
       "    .dataframe tbody tr th:only-of-type {\n",
       "        vertical-align: middle;\n",
       "    }\n",
       "\n",
       "    .dataframe tbody tr th {\n",
       "        vertical-align: top;\n",
       "    }\n",
       "\n",
       "    .dataframe thead th {\n",
       "        text-align: right;\n",
       "    }\n",
       "</style>\n",
       "<table border=\"1\" class=\"dataframe\">\n",
       "  <thead>\n",
       "    <tr style=\"text-align: right;\">\n",
       "      <th></th>\n",
       "      <th>0</th>\n",
       "      <th>1</th>\n",
       "      <th>2</th>\n",
       "      <th>3</th>\n",
       "      <th>4</th>\n",
       "      <th>5</th>\n",
       "      <th>6</th>\n",
       "      <th>7</th>\n",
       "      <th>8</th>\n",
       "    </tr>\n",
       "  </thead>\n",
       "  <tbody>\n",
       "    <tr>\n",
       "      <th>0</th>\n",
       "      <td>302.0HP</td>\n",
       "      <td>3.5L</td>\n",
       "      <td>V6</td>\n",
       "      <td>Cylinder</td>\n",
       "      <td>Engine</td>\n",
       "      <td>Gasoline</td>\n",
       "      <td>Fuel</td>\n",
       "      <td>None</td>\n",
       "      <td>None</td>\n",
       "    </tr>\n",
       "    <tr>\n",
       "      <th>1</th>\n",
       "      <td>275.0HP</td>\n",
       "      <td>3.5L</td>\n",
       "      <td>V6</td>\n",
       "      <td>Cylinder</td>\n",
       "      <td>Engine</td>\n",
       "      <td>Gasoline</td>\n",
       "      <td>Fuel</td>\n",
       "      <td>None</td>\n",
       "      <td>None</td>\n",
       "    </tr>\n",
       "    <tr>\n",
       "      <th>2</th>\n",
       "      <td>241.0HP</td>\n",
       "      <td>2.0L</td>\n",
       "      <td>4</td>\n",
       "      <td>Cylinder</td>\n",
       "      <td>Engine</td>\n",
       "      <td>Gasoline</td>\n",
       "      <td>Fuel</td>\n",
       "      <td>None</td>\n",
       "      <td>None</td>\n",
       "    </tr>\n",
       "    <tr>\n",
       "      <th>3</th>\n",
       "      <td>518.0HP</td>\n",
       "      <td>5.0L</td>\n",
       "      <td>8</td>\n",
       "      <td>Cylinder</td>\n",
       "      <td>Engine</td>\n",
       "      <td>Gasoline</td>\n",
       "      <td>Fuel</td>\n",
       "      <td>None</td>\n",
       "      <td>None</td>\n",
       "    </tr>\n",
       "    <tr>\n",
       "      <th>4</th>\n",
       "      <td>335.0HP</td>\n",
       "      <td>3.0L</td>\n",
       "      <td>Straight</td>\n",
       "      <td>6</td>\n",
       "      <td>Cylinder</td>\n",
       "      <td>Engine</td>\n",
       "      <td>Gasoline</td>\n",
       "      <td>Fuel</td>\n",
       "      <td>None</td>\n",
       "    </tr>\n",
       "    <tr>\n",
       "      <th>...</th>\n",
       "      <td>...</td>\n",
       "      <td>...</td>\n",
       "      <td>...</td>\n",
       "      <td>...</td>\n",
       "      <td>...</td>\n",
       "      <td>...</td>\n",
       "      <td>...</td>\n",
       "      <td>...</td>\n",
       "      <td>...</td>\n",
       "    </tr>\n",
       "    <tr>\n",
       "      <th>36178</th>\n",
       "      <td>420.0HP</td>\n",
       "      <td>6.2L</td>\n",
       "      <td>8</td>\n",
       "      <td>Cylinder</td>\n",
       "      <td>Engine</td>\n",
       "      <td>Gasoline</td>\n",
       "      <td>Fuel</td>\n",
       "      <td>None</td>\n",
       "      <td>None</td>\n",
       "    </tr>\n",
       "    <tr>\n",
       "      <th>36179</th>\n",
       "      <td>295.0HP</td>\n",
       "      <td>5.3L</td>\n",
       "      <td>8</td>\n",
       "      <td>Cylinder</td>\n",
       "      <td>Engine</td>\n",
       "      <td>Gasoline</td>\n",
       "      <td>Fuel</td>\n",
       "      <td>None</td>\n",
       "      <td>None</td>\n",
       "    </tr>\n",
       "    <tr>\n",
       "      <th>36180</th>\n",
       "      <td>132.0HP</td>\n",
       "      <td>1.8L</td>\n",
       "      <td>4</td>\n",
       "      <td>Cylinder</td>\n",
       "      <td>Engine</td>\n",
       "      <td>Gasoline</td>\n",
       "      <td>Fuel</td>\n",
       "      <td>None</td>\n",
       "      <td>None</td>\n",
       "    </tr>\n",
       "    <tr>\n",
       "      <th>36181</th>\n",
       "      <td>450.0HP</td>\n",
       "      <td>3.5L</td>\n",
       "      <td>V6</td>\n",
       "      <td>Cylinder</td>\n",
       "      <td>Engine</td>\n",
       "      <td>Gasoline</td>\n",
       "      <td>Fuel</td>\n",
       "      <td>None</td>\n",
       "      <td>None</td>\n",
       "    </tr>\n",
       "    <tr>\n",
       "      <th>36182</th>\n",
       "      <td>320.0HP</td>\n",
       "      <td>5.3L</td>\n",
       "      <td>8</td>\n",
       "      <td>Cylinder</td>\n",
       "      <td>Engine</td>\n",
       "      <td>Flex</td>\n",
       "      <td>Fuel</td>\n",
       "      <td>Capability</td>\n",
       "      <td>None</td>\n",
       "    </tr>\n",
       "  </tbody>\n",
       "</table>\n",
       "<p>36183 rows × 9 columns</p>\n",
       "</div>"
      ],
      "text/plain": [
       "             0     1         2         3         4         5         6  \\\n",
       "0      302.0HP  3.5L        V6  Cylinder    Engine  Gasoline      Fuel   \n",
       "1      275.0HP  3.5L        V6  Cylinder    Engine  Gasoline      Fuel   \n",
       "2      241.0HP  2.0L         4  Cylinder    Engine  Gasoline      Fuel   \n",
       "3      518.0HP  5.0L         8  Cylinder    Engine  Gasoline      Fuel   \n",
       "4      335.0HP  3.0L  Straight         6  Cylinder    Engine  Gasoline   \n",
       "...        ...   ...       ...       ...       ...       ...       ...   \n",
       "36178  420.0HP  6.2L         8  Cylinder    Engine  Gasoline      Fuel   \n",
       "36179  295.0HP  5.3L         8  Cylinder    Engine  Gasoline      Fuel   \n",
       "36180  132.0HP  1.8L         4  Cylinder    Engine  Gasoline      Fuel   \n",
       "36181  450.0HP  3.5L        V6  Cylinder    Engine  Gasoline      Fuel   \n",
       "36182  320.0HP  5.3L         8  Cylinder    Engine      Flex      Fuel   \n",
       "\n",
       "                7     8  \n",
       "0            None  None  \n",
       "1            None  None  \n",
       "2            None  None  \n",
       "3            None  None  \n",
       "4            Fuel  None  \n",
       "...           ...   ...  \n",
       "36178        None  None  \n",
       "36179        None  None  \n",
       "36180        None  None  \n",
       "36181        None  None  \n",
       "36182  Capability  None  \n",
       "\n",
       "[36183 rows x 9 columns]"
      ]
     },
     "execution_count": 298,
     "metadata": {},
     "output_type": "execute_result"
    }
   ],
   "source": [
    "df['engine'].str.split(' ',expand = True)"
   ]
  },
  {
   "cell_type": "code",
   "execution_count": 299,
   "metadata": {},
   "outputs": [
    {
     "name": "stderr",
     "output_type": "stream",
     "text": [
      "C:\\Users\\avira\\AppData\\Local\\Temp\\ipykernel_24528\\1637669894.py:21: FutureWarning: Setting an item of incompatible dtype is deprecated and will raise an error in a future version of pandas. Value '[]' has dtype incompatible with float64, please explicitly cast to a compatible dtype first.\n",
      "  split_engine.loc[(~split_engine[0].str.contains('HP')) & (split_engine[2].str.contains('L')) & (split_engine['cylinders'].isnull()), 'litres'] = split_engine.loc[(~split_engine[0].str.contains('HP')) & (split_engine[2].str.contains('L')) & (split_engine['cylinders'].isnull())][2].str.replace('L', '')\n"
     ]
    }
   ],
   "source": [
    "split_engine = df['engine'].str.split(' ',expand = True)\n",
    "\n",
    "split_engine.loc[split_engine[0].str.contains('HP'), 'horsepower'] = split_engine.loc[split_engine[0].str.contains('HP'), 0].str.replace('HP', \"\").astype(float)\n",
    "split_engine.loc[(split_engine[0].str.contains('HP')) & (split_engine[1].str.contains('L')), 'litres'] = split_engine.loc[(split_engine[0].str.contains('HP')) & (split_engine[1].str.contains('L')), 1].str.replace('L', \"\").astype(float)\n",
    "split_engine.loc[split_engine[0].str.contains('HP') & (split_engine[3] == 'Cylinder'), 'cylinders'] = split_engine.loc[split_engine[0].str.contains('HP') & (split_engine[3] == 'Cylinder'), 2].str.replace('V', \"\").astype(int)\n",
    "split_engine.loc[split_engine[0].str.contains('HP') & (split_engine[3] == '6'), 'cylinders'] = 6\n",
    "\n",
    "split_engine.loc[(~split_engine[0].str.contains('HP')) & (split_engine[0].str.contains('L')), 'litres'] = pd.to_numeric(split_engine.loc[(~split_engine[0].str.contains('HP')) & (split_engine[0].str.contains('L')), 0].str.replace('L', ''), errors = 'coerce')\n",
    "split_engine.loc[(~split_engine[0].str.contains('HP')) & (split_engine[0].str.contains('V')) & (split_engine['cylinders'].isnull()), 'cylinders'] = abs(pd.to_numeric(split_engine.loc[(~split_engine[0].str.contains('HP')) & (split_engine[0].str.contains('V'))][0].str.replace('V', ''), errors = 'coerce'))\n",
    "\n",
    "\n",
    "split_engine.loc[(~split_engine[0].str.contains('HP')) & (split_engine[1].str.contains('L')), 'litres'] = pd.to_numeric(split_engine.loc[(~split_engine[0].str.contains('HP')) & (split_engine[1].str.contains('L')), 1].str.replace('L', ''), errors = 'coerce')\n",
    "split_engine.loc[(~split_engine[0].str.contains('HP')) & (split_engine[1].str.contains('I')), 'cylinders'] = abs(pd.to_numeric(split_engine.loc[(~split_engine[0].str.contains('HP')) & (split_engine[1].str.contains('I'))][1].str.replace('I', '')))\n",
    "split_engine.loc[(~split_engine[0].str.contains('HP')) & (split_engine[1].str.contains('H')), 'cylinders'] = abs(pd.to_numeric(split_engine.loc[(~split_engine[0].str.contains('HP')) & (split_engine[1].str.contains('H'))][1].str.replace('H', ''), errors = 'coerce'))\n",
    "split_engine.loc[(~split_engine[0].str.contains('HP')) & (split_engine[1].str.contains('W')), 'cylinders'] = abs(pd.to_numeric(split_engine.loc[(~split_engine[0].str.contains('HP')) & (split_engine[1].str.contains('W'))][1].str.replace('W', ''), errors = 'coerce'))\n",
    "split_engine.loc[(~split_engine[0].str.contains('HP')) & (split_engine[1].str.contains('V')), 'cylinders'] = abs(pd.to_numeric(split_engine.loc[(~split_engine[0].str.contains('HP')) & (split_engine[1].str.contains('V'))][1].str.replace('V', ''), errors = 'coerce'))\n",
    "split_engine.loc[(~split_engine[0].str.contains('HP')) & (split_engine[1].isin([str(x) for x in list(range(20))])), 'cylinders'] = split_engine.loc[(~split_engine[0].str.contains('HP')) & (split_engine[1].isin([str(x) for x in list(range(20))]))][1].astype(float)\n",
    "\n",
    "split_engine.loc[(~split_engine[0].str.contains('HP')) & (split_engine[2].str.contains('V')) & (split_engine['cylinders'].isnull()), 'cylinders'] = abs(pd.to_numeric(split_engine.loc[(~split_engine[0].str.contains('HP')) & (split_engine[2].str.contains('V')) & (split_engine['cylinders'].isnull())][2].str.replace('V', '')))\n",
    "split_engine.loc[(~split_engine[0].str.contains('HP')) & (split_engine[2].str.contains('I')) & (split_engine['cylinders'].isnull()), 'cylinders'] = abs(pd.to_numeric(split_engine.loc[(~split_engine[0].str.contains('HP')) & (split_engine[2].str.contains('I')) & (split_engine['cylinders'].isnull())][2].str.replace('I', ''), errors = 'coerce'))\n",
    "split_engine.loc[(~split_engine[0].str.contains('HP')) & (split_engine[2].str.contains('L')) & (split_engine['cylinders'].isnull()), 'litres'] = split_engine.loc[(~split_engine[0].str.contains('HP')) & (split_engine[2].str.contains('L')) & (split_engine['cylinders'].isnull())][2].str.replace('L', '')\n",
    "\n",
    "split_engine.loc[(~split_engine[0].str.contains('HP')) & (split_engine[3].str.contains('V')) & (split_engine['cylinders'].isnull()), 'cylinders'] = abs(pd.to_numeric(split_engine.loc[(~split_engine[0].str.contains('HP')) & (split_engine[3].str.contains('V')) & (split_engine['cylinders'].isnull())][3].str.replace('V', ''), errors = 'coerce'))\n",
    "\n",
    "split_engine.loc[(~split_engine[0].str.contains('HP')) & (split_engine[4].str.contains('I')) & (split_engine['cylinders'].isnull()), 'cylinders'] = abs(pd.to_numeric(split_engine.loc[(~split_engine[0].str.contains('HP')) & (split_engine[4].str.contains('I')) & (split_engine['cylinders'].isnull())][4].str.replace('I', ''), errors = 'coerce'))\n",
    "split_engine.loc[(~split_engine[0].str.contains('HP')) & (split_engine[4].str.contains('V')) & (split_engine['cylinders'].isnull()), 'cylinders'] = abs(pd.to_numeric(split_engine.loc[(~split_engine[0].str.contains('HP')) & (split_engine[4].str.contains('V')) & (split_engine['cylinders'].isnull())][4].str.replace('V', ''), errors = 'coerce'))\n",
    "\n",
    "split_engine.loc[(split_engine[1] == 'Liter') & (split_engine['litres'].isnull()), 'litres'] = split_engine.loc[(split_engine[1] == 'Liter') & (split_engine['litres'].isnull())][0].astype(float)\n",
    "\n",
    "df = pd.concat([df, split_engine[['horsepower', 'litres', 'cylinders']]], axis = 1)"
   ]
  },
  {
   "cell_type": "code",
   "execution_count": 300,
   "metadata": {},
   "outputs": [
    {
     "name": "stderr",
     "output_type": "stream",
     "text": [
      "C:\\Users\\avira\\AppData\\Local\\Temp\\ipykernel_24528\\2197479763.py:4: FutureWarning: A value is trying to be set on a copy of a DataFrame or Series through chained assignment using an inplace method.\n",
      "The behavior will change in pandas 3.0. This inplace method will never work because the intermediate object on which we are setting values always behaves as a copy.\n",
      "\n",
      "For example, when doing 'df[col].method(value, inplace=True)', try using 'df.method({col: value}, inplace=True)' or df[col] = df[col].method(value) instead, to perform the operation inplace on the original object.\n",
      "\n",
      "\n",
      "  df['tsm'].fillna('Other', inplace = True)\n"
     ]
    }
   ],
   "source": [
    "df.loc[df['transmission'].str.contains('automatic|Automatic|A/T|AT|Auto|CVT'), 'tsm'] = 'Automatic'\n",
    "df.loc[df['transmission'].str.contains('M/T|Manual|Mt'), 'tsm'] = 'Manual'\n",
    "df.loc[df['transmission'].str.contains('Dual Shift Mode'), 'tsm'] = 'DCT'\n",
    "df['tsm'].fillna('Other', inplace = True)"
   ]
  },
  {
   "cell_type": "code",
   "execution_count": 301,
   "metadata": {},
   "outputs": [
    {
     "name": "stderr",
     "output_type": "stream",
     "text": [
      "C:\\Users\\avira\\AppData\\Local\\Temp\\ipykernel_24528\\1977337176.py:3: FutureWarning: A value is trying to be set on a copy of a DataFrame or Series through chained assignment using an inplace method.\n",
      "The behavior will change in pandas 3.0. This inplace method will never work because the intermediate object on which we are setting values always behaves as a copy.\n",
      "\n",
      "For example, when doing 'df[col].method(value, inplace=True)', try using 'df.method({col: value}, inplace=True)' or df[col] = df[col].method(value) instead, to perform the operation inplace on the original object.\n",
      "\n",
      "\n",
      "  df['exterior_color'].fillna('Other', inplace = True)\n"
     ]
    }
   ],
   "source": [
    "df.loc[df['ext_col'].str.contains('Black'), 'exterior_color'] = 'Black'\n",
    "df.loc[df['ext_col'].str.contains('White'), 'exterior_color'] = 'White'\n",
    "df['exterior_color'].fillna('Other', inplace = True)"
   ]
  },
  {
   "cell_type": "code",
   "execution_count": 302,
   "metadata": {},
   "outputs": [
    {
     "name": "stderr",
     "output_type": "stream",
     "text": [
      "C:\\Users\\avira\\AppData\\Local\\Temp\\ipykernel_24528\\3787901577.py:3: FutureWarning: A value is trying to be set on a copy of a DataFrame or Series through chained assignment using an inplace method.\n",
      "The behavior will change in pandas 3.0. This inplace method will never work because the intermediate object on which we are setting values always behaves as a copy.\n",
      "\n",
      "For example, when doing 'df[col].method(value, inplace=True)', try using 'df.method({col: value}, inplace=True)' or df[col] = df[col].method(value) instead, to perform the operation inplace on the original object.\n",
      "\n",
      "\n",
      "  df['interior_color'].fillna('Other', inplace = True)\n"
     ]
    }
   ],
   "source": [
    "df.loc[df['int_col'].str.contains('Black'), 'interior_color'] = 'Black'\n",
    "df.loc[df['int_col'].str.contains('White'), 'interior_color'] = 'White'\n",
    "df['interior_color'].fillna('Other', inplace = True)"
   ]
  },
  {
   "cell_type": "code",
   "execution_count": 303,
   "metadata": {},
   "outputs": [
    {
     "name": "stderr",
     "output_type": "stream",
     "text": [
      "C:\\Users\\avira\\AppData\\Local\\Temp\\ipykernel_24528\\3780501552.py:4: FutureWarning: Downcasting behavior in `replace` is deprecated and will be removed in a future version. To retain the old behavior, explicitly call `result.infer_objects(copy=False)`. To opt-in to the future behavior, set `pd.set_option('future.no_silent_downcasting', True)`\n",
      "  df['clean_title'] = df['clean_title'].replace('Yes', 1).fillna(0)\n"
     ]
    }
   ],
   "source": [
    "df['accident'] = df['accident'].replace('At least 1 accident or damage reported',1)\n",
    "df.loc[df['accident'] != 1, 'accident'] = 0\n",
    "\n",
    "df['clean_title'] = df['clean_title'].replace('Yes', 1).fillna(0)"
   ]
  },
  {
   "cell_type": "code",
   "execution_count": 304,
   "metadata": {},
   "outputs": [],
   "source": [
    "bin_edges = range(1970, 2031, 5)\n",
    "bin_labels = [f'{start}-{start+9}' for start in bin_edges[:-1]]\n",
    "df['model_year_bins'] = pd.cut(df['model_year'], bins=bin_edges, labels=bin_labels, right=False)"
   ]
  },
  {
   "cell_type": "code",
   "execution_count": 305,
   "metadata": {},
   "outputs": [],
   "source": [
    "categorical_columns = df.select_dtypes(include=['object', 'category']).columns\n"
   ]
  },
  {
   "cell_type": "code",
   "execution_count": 306,
   "metadata": {},
   "outputs": [],
   "source": [
    "df['litres'] = df['litres'].astype(float)"
   ]
  },
  {
   "cell_type": "code",
   "execution_count": 307,
   "metadata": {},
   "outputs": [],
   "source": [
    "df = pd.merge(df, df.groupby(['litres', 'cylinders'])['horsepower'].mean().reset_index().rename({'horsepower': 'hp_mean'}, axis = 1),\n",
    "         'left', ['litres', 'cylinders'])\n",
    "df.loc[df['horsepower'].isnull() & df['hp_mean'].notnull(), 'horsepower'] = round(df.loc[df['horsepower'].isnull() & df['hp_mean'].notnull(), 'hp_mean'])"
   ]
  },
  {
   "cell_type": "code",
   "execution_count": 283,
   "metadata": {},
   "outputs": [],
   "source": [
    "df = df[df['price']<=200000].copy().reset_index(drop = True)"
   ]
  },
  {
   "cell_type": "code",
   "execution_count": 308,
   "metadata": {},
   "outputs": [],
   "source": [
    "from sklearn.preprocessing import OrdinalEncoder\n",
    "OHE = OrdinalEncoder()\n",
    "df[categorical_columns] = OHE.fit_transform(df[categorical_columns])"
   ]
  },
  {
   "cell_type": "code",
   "execution_count": 285,
   "metadata": {},
   "outputs": [],
   "source": [
    "X = df.copy()\n",
    "y = df['price']"
   ]
  },
  {
   "cell_type": "code",
   "execution_count": 286,
   "metadata": {},
   "outputs": [],
   "source": [
    "X.drop('price',axis=1,inplace=True)\n",
    "# X.drop('id',axis=1,inplace=True)"
   ]
  },
  {
   "cell_type": "code",
   "execution_count": 287,
   "metadata": {},
   "outputs": [],
   "source": [
    "from sklearn.model_selection import train_test_split\n",
    "\n",
    "\n",
    "X_train, X_test, y_train, y_test = train_test_split(X, y, test_size=0.2, random_state=42)"
   ]
  },
  {
   "cell_type": "code",
   "execution_count": 288,
   "metadata": {},
   "outputs": [
    {
     "name": "stdout",
     "output_type": "stream",
     "text": [
      "Best Parameters: {'max_depth': 7, 'min_samples_leaf': 4, 'min_samples_split': 10, 'n_estimators': 1000}\n",
      "\n",
      "Random Forest Regression (Bagging):\n",
      "Training R-squared: 0.5550, Training MSE: 343828610.2519\n",
      "Testing R-squared: 0.5271, Testing MSE: 336140972.0155\n"
     ]
    }
   ],
   "source": [
    "from sklearn.metrics import mean_squared_error,r2_score\n",
    "from sklearn.model_selection import GridSearchCV\n",
    "from sklearn.ensemble import RandomForestRegressor\n",
    "\n",
    "# Define the parameter grid for GridSearchCV\n",
    "param_grid = {\n",
    "    'n_estimators': [100, 500, 1000],\n",
    "    'max_depth': [3, 5, 7],\n",
    "    'min_samples_split': [2, 5, 10],\n",
    "    'min_samples_leaf': [1, 2, 4]\n",
    "}\n",
    "\n",
    "# Create the Random Forest Regression model\n",
    "rf_model = RandomForestRegressor(random_state=42)\n",
    "\n",
    "# Create GridSearchCV object with cross-validation\n",
    "grid_search = GridSearchCV(estimator=rf_model, param_grid=param_grid, cv=5, scoring='neg_mean_squared_error', n_jobs=-1)\n",
    "\n",
    "# Fit the GridSearchCV object to the training data\n",
    "grid_search.fit(X_train, y_train)\n",
    "\n",
    "# Get the best parameters and best estimator\n",
    "best_params = grid_search.best_params_\n",
    "best_estimator = grid_search.best_estimator_\n",
    "\n",
    "# Make predictions on training and testing data using the best estimator\n",
    "y_train_pred_rf = best_estimator.predict(X_train)\n",
    "y_test_pred_rf = best_estimator.predict(X_test)\n",
    "\n",
    "# Calculate R-squared and mean squared error for evaluation\n",
    "rf_r2_train = r2_score(y_train, y_train_pred_rf)\n",
    "rf_r2_test = r2_score(y_test, y_test_pred_rf)\n",
    "rf_mse_train = mean_squared_error(y_train, y_train_pred_rf)\n",
    "rf_mse_test = mean_squared_error(y_test, y_test_pred_rf)\n",
    "\n",
    "print(\"Best Parameters:\", best_params)\n",
    "print(f\"\\nRandom Forest Regression (Bagging):\")\n",
    "print(f\"Training R-squared: {rf_r2_train:.4f}, Training MSE: {rf_mse_train:.4f}\")\n",
    "print(f\"Testing R-squared: {rf_r2_test:.4f}, Testing MSE: {rf_mse_test:.4f}\")"
   ]
  },
  {
   "cell_type": "code",
   "execution_count": 309,
   "metadata": {},
   "outputs": [],
   "source": [
    "predictions = best_estimator.predict(df)"
   ]
  },
  {
   "cell_type": "code",
   "execution_count": 310,
   "metadata": {},
   "outputs": [],
   "source": [
    "submission_df = pd.DataFrame({'id': df['id'], 'price': predictions})\n",
    "submission_df.to_csv('submission.csv', index=False)"
   ]
  },
  {
   "cell_type": "code",
   "execution_count": null,
   "metadata": {},
   "outputs": [],
   "source": []
  }
 ],
 "metadata": {
  "kernelspec": {
   "display_name": "Python 3",
   "language": "python",
   "name": "python3"
  },
  "language_info": {
   "codemirror_mode": {
    "name": "ipython",
    "version": 3
   },
   "file_extension": ".py",
   "mimetype": "text/x-python",
   "name": "python",
   "nbconvert_exporter": "python",
   "pygments_lexer": "ipython3",
   "version": "3.10.0"
  }
 },
 "nbformat": 4,
 "nbformat_minor": 2
}
